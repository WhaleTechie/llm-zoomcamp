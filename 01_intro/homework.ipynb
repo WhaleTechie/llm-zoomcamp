{
 "cells": [
  {
   "cell_type": "code",
   "execution_count": 1,
   "id": "8da25ee0-220b-42c7-85cb-89269c20ff2b",
   "metadata": {},
   "outputs": [],
   "source": [
    "import openai"
   ]
  },
  {
   "cell_type": "code",
   "execution_count": 2,
   "id": "01a535be-9b76-4671-905b-638a576d13b5",
   "metadata": {},
   "outputs": [],
   "source": [
    "from openai import OpenAI"
   ]
  },
  {
   "cell_type": "code",
   "execution_count": 4,
   "id": "9875172c-6922-41d2-8427-3155e5034278",
   "metadata": {},
   "outputs": [],
   "source": [
    "import os"
   ]
  },
  {
   "cell_type": "code",
   "execution_count": 5,
   "id": "5220ef9d-4f3b-463f-8791-b067a0ec4fb9",
   "metadata": {},
   "outputs": [],
   "source": [
    "response = client.chat.completions.create(\n",
    "    model='gpt-4o',\n",
    "    messages=[{\"role\": \"user\", \"content\": \"is it too late to join the course?\"}]\n",
    ")"
   ]
  },
  {
   "cell_type": "code",
   "execution_count": 9,
   "id": "3eb6eedb-d0a4-426f-91d9-d7ff7bb05f05",
   "metadata": {},
   "outputs": [
    {
     "data": {
      "text/plain": [
       "'The answer to whether it is too late to join the course can depend on several factors:\\n\\n1. **Enrollment Deadlines:** Some courses, especially in academic institutions, have strict deadlines for enrollment. Check the specific deadlines for the course you are interested in.\\n\\n2. **Course Progress:** If the course has already started, consider how far along it is. It might be more challenging to catch up if a significant portion of the course has already been completed.\\n\\n3. **Instructor Policies:** Some instructors might be flexible and allow late enrollments, especially if you have a compelling reason for missing the initial deadlines.\\n\\n4. **Availability of Resources:** Ensure that you have access to all the necessary resources such as lecture notes, assignments, and other course materials. This can help you catch up if you join late.\\n\\n5. **Self-Paced vs. Scheduled:** Online courses that are self-paced may allow you to enroll at any time, while those with a fixed schedule may have stricter deadlines.\\n\\nIf you’re not sure, the best course of action is to reach out directly to the instructor or the enrollment office and explain your situation. They can provide you with the most accurate information and might offer a solution that suits your circumstances.'"
      ]
     },
     "execution_count": 9,
     "metadata": {},
     "output_type": "execute_result"
    }
   ],
   "source": [
    "response.choices[0].message.content"
   ]
  },
  {
   "cell_type": "code",
   "execution_count": null,
   "id": "b2e42e94-38b8-4bce-a500-8902ae6c0a62",
   "metadata": {},
   "outputs": [],
   "source": []
  }
 ],
 "metadata": {
  "kernelspec": {
   "display_name": "Python 3 (ipykernel)",
   "language": "python",
   "name": "python3"
  },
  "language_info": {
   "codemirror_mode": {
    "name": "ipython",
    "version": 3
   },
   "file_extension": ".py",
   "mimetype": "text/x-python",
   "name": "python",
   "nbconvert_exporter": "python",
   "pygments_lexer": "ipython3",
   "version": "3.10.13"
  }
 },
 "nbformat": 4,
 "nbformat_minor": 5
}
